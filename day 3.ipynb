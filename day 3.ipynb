1.complexno = 2 + 6j
complexno1 = 5 + 14j
print('Subtraction of two complex number=', complexno - complexno1)
Subtraction of two complex number= (-3-8j)

2.num = 4
num_sqrt = num ** 0.5
print('The square root of %0.3f is %0.3f'%(num ,num_sqrt))
The square root of 4.000 is 2.000

3.x = 2
y = 10
# create a temporary variable and swap the values
temp = x
x = y
y = temp
​
print('The value of x after swapping: {}'.format(x))
print('The value of y after swapping: {}'.format(y))
The value of x after swapping: 10
The value of y after swapping: 2

4.x = 3
y = 15
#create without using tempporary variable
x, y = y, x
print("x =", x)
print("y =", y)
x = 15
y = 3

5.def Fahrenheit_to_Kelvin(F): 
    return 273.5 + ((F - 32.0) * (5.0/9.0))  
F = 100
print("Temperature in Kelvin ( K ) = {:.3f}" 
            .format(Fahrenheit_to_Kelvin( F ))) 
​
# Fahrenheit to Celsius 
def Conversion(n): 
    return(n - 32.0) * 5.0 / 9.0
n = 40
x = Conversion(n) 
print (x) 
Temperature in Kelvin ( K ) = 311.278
4.444444444444445

6.a = 5
print(a,type(a))
​
a = 2.0
print(a,type(a))
​
a = 1+2j
print(a,isinstance(1+2j,complex))
5 <class 'int'>
2.0 <class 'float'>
(1+2j) True

7.1.Go to https://github.com/join. 2.Fill out the form. 3.Click Create account. 4.Complete the CAPTCHA. 5.Click Choose on your desired plan. 6.Verify your email address. 7.Confirm your plan. 8.Select your preferences.