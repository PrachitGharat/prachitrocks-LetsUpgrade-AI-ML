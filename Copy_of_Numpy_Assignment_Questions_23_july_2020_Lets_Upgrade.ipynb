{
  "nbformat": 4,
  "nbformat_minor": 0,
  "metadata": {
    "kernelspec": {
      "display_name": "Python 3",
      "language": "python",
      "name": "python3"
    },
    "language_info": {
      "codemirror_mode": {
        "name": "ipython",
        "version": 3
      },
      "file_extension": ".py",
      "mimetype": "text/x-python",
      "name": "python",
      "nbconvert_exporter": "python",
      "pygments_lexer": "ipython3",
      "version": "3.7.4"
    },
    "colab": {
      "name": "Copy of Numpy Assignment Questions 23 july 2020- Lets Upgrade.ipynb",
      "provenance": [],
      "include_colab_link": true
    }
  },
  "cells": [
    {
      "cell_type": "markdown",
      "metadata": {
        "id": "view-in-github",
        "colab_type": "text"
      },
      "source": [
        "<a href=\"https://colab.research.google.com/github/prachitrocks/prachitrocks-LetsUpgrade-AI-ML/blob/master/Copy_of_Numpy_Assignment_Questions_23_july_2020_Lets_Upgrade.ipynb\" target=\"_parent\"><img src=\"https://colab.research.google.com/assets/colab-badge.svg\" alt=\"Open In Colab\"/></a>"
      ]
    },
    {
      "cell_type": "markdown",
      "metadata": {
        "id": "aNYz2LQCA135",
        "colab_type": "text"
      },
      "source": [
        "# 1. Create a 3x3x3 array with random values "
      ]
    },
    {
      "cell_type": "code",
      "metadata": {
        "id": "fueHmn8tA136",
        "colab_type": "code",
        "colab": {
          "base_uri": "https://localhost:8080/",
          "height": 202
        },
        "outputId": "865ef52a-dd21-4e89-da0e-cf9d45b98100"
      },
      "source": [
        "import numpy as np\n",
        "x=np.random.random((3,3,3))\n",
        "print(x)"
      ],
      "execution_count": null,
      "outputs": [
        {
          "output_type": "stream",
          "text": [
            "[[[0.70273313 0.58970769 0.96741843]\n",
            "  [0.0383946  0.77093825 0.84840726]\n",
            "  [0.35891474 0.12594284 0.55732332]]\n",
            "\n",
            " [[0.50169007 0.1135379  0.87097234]\n",
            "  [0.42395798 0.05360344 0.40758879]\n",
            "  [0.9388255  0.53645038 0.24516277]]\n",
            "\n",
            " [[0.46344137 0.31382009 0.85433487]\n",
            "  [0.56057904 0.573759   0.22136022]\n",
            "  [0.02624317 0.53451588 0.57362124]]]\n"
          ],
          "name": "stdout"
        }
      ]
    },
    {
      "cell_type": "markdown",
      "metadata": {
        "id": "lQKVGhtoA14A",
        "colab_type": "text"
      },
      "source": [
        "# 2.Create a 5x5 matrix with values 1,2,3,4 just below the diagonal"
      ]
    },
    {
      "cell_type": "code",
      "metadata": {
        "id": "-F2yyn1NA14C",
        "colab_type": "code",
        "colab": {
          "base_uri": "https://localhost:8080/",
          "height": 101
        },
        "outputId": "c537d5c0-1c65-4a46-977f-86ddbc7563b3"
      },
      "source": [
        "import numpy as np\n",
        "x = np.diag([1, 2, 3, 4, 5])\n",
        "print(x)"
      ],
      "execution_count": null,
      "outputs": [
        {
          "output_type": "stream",
          "text": [
            "[[1 0 0 0 0]\n",
            " [0 2 0 0 0]\n",
            " [0 0 3 0 0]\n",
            " [0 0 0 4 0]\n",
            " [0 0 0 0 5]]\n"
          ],
          "name": "stdout"
        }
      ]
    },
    {
      "cell_type": "markdown",
      "metadata": {
        "id": "WzWaQRhJA14K",
        "colab_type": "text"
      },
      "source": [
        "# 3.Create a 8x8 matrix and fill it with a checkerboard pattern"
      ]
    },
    {
      "cell_type": "code",
      "metadata": {
        "id": "XQzqIG4FA14L",
        "colab_type": "code",
        "colab": {
          "base_uri": "https://localhost:8080/",
          "height": 168
        },
        "outputId": "a9c7ed40-441a-43b5-b873-47acc04e32b0"
      },
      "source": [
        "import numpy as np\n",
        "x = np.ones((3,3))\n",
        "print(\"Checkerboard pattern:\")\n",
        "x = np.zeros((8,8),dtype=int)\n",
        "x[1::2,::2] = 1\n",
        "x[::2,1::2] = 1\n",
        "print(x)"
      ],
      "execution_count": null,
      "outputs": [
        {
          "output_type": "stream",
          "text": [
            "Checkerboard pattern:\n",
            "[[0 1 0 1 0 1 0 1]\n",
            " [1 0 1 0 1 0 1 0]\n",
            " [0 1 0 1 0 1 0 1]\n",
            " [1 0 1 0 1 0 1 0]\n",
            " [0 1 0 1 0 1 0 1]\n",
            " [1 0 1 0 1 0 1 0]\n",
            " [0 1 0 1 0 1 0 1]\n",
            " [1 0 1 0 1 0 1 0]]\n"
          ],
          "name": "stdout"
        }
      ]
    },
    {
      "cell_type": "markdown",
      "metadata": {
        "id": "E_1P0TdIA14T",
        "colab_type": "text"
      },
      "source": [
        "# 4. Normalize a 5x5 random matrix"
      ]
    },
    {
      "cell_type": "code",
      "metadata": {
        "id": "YvXC7nJMA14V",
        "colab_type": "code",
        "colab": {
          "base_uri": "https://localhost:8080/",
          "height": 218
        },
        "outputId": "bda9e9ed-13f5-4a3f-db9f-ac0668b3592a"
      },
      "source": [
        "import numpy as np\n",
        "x= np.random.random((5,5))\n",
        "print(\"Original Array:\")\n",
        "print(x)\n",
        "xmax, xmin = x.max(), x.min()\n",
        "x = (x - xmin)/(xmax - xmin)\n",
        "print(\"After normalization:\")\n",
        "print(x)"
      ],
      "execution_count": null,
      "outputs": [
        {
          "output_type": "stream",
          "text": [
            "Original Array:\n",
            "[[0.18155283 0.72282078 0.21349249 0.40576242 0.18552859]\n",
            " [0.26107831 0.97412087 0.43853851 0.61704489 0.87885173]\n",
            " [0.03730501 0.68917327 0.54991547 0.00988907 0.64023358]\n",
            " [0.93512117 0.47202177 0.00512162 0.78259388 0.26193644]\n",
            " [0.82380302 0.8069572  0.58049764 0.06618879 0.40723638]]\n",
            "After normalization:\n",
            "[[0.1820757  0.74066018 0.21503719 0.41345832 0.18617865]\n",
            " [0.2641454  1.         0.447283   0.63150026 0.90168295]\n",
            " [0.03321303 0.7059362  0.56222319 0.00491998 0.65543081]\n",
            " [0.95975259 0.48183747 0.         0.80234557 0.26503098]\n",
            " [0.8448731  0.82748833 0.59378376 0.06302087 0.41497943]]\n"
          ],
          "name": "stdout"
        }
      ]
    },
    {
      "cell_type": "markdown",
      "metadata": {
        "id": "Vi28KJK_A14a",
        "colab_type": "text"
      },
      "source": [
        "# 5.  How to find common values between two arrays?"
      ]
    },
    {
      "cell_type": "code",
      "metadata": {
        "id": "Js3dyX-aA14c",
        "colab_type": "code",
        "colab": {
          "base_uri": "https://localhost:8080/",
          "height": 84
        },
        "outputId": "7f672b49-8082-4893-a57e-eb83e3a59486"
      },
      "source": [
        "import numpy as np\n",
        "array1 = np.array([0, 10, 20, 40, 60])\n",
        "print(\"Array1: \",array1)\n",
        "array2 = [10, 60, 30]\n",
        "print(\"Array2: \",array2)\n",
        "print(\"Common values between two arrays:\")\n",
        "print(np.intersect1d(array1, array2))"
      ],
      "execution_count": null,
      "outputs": [
        {
          "output_type": "stream",
          "text": [
            "Array1:  [ 0 10 20 40 60]\n",
            "Array2:  [10, 60, 30]\n",
            "Common values between two arrays:\n",
            "[10 60]\n"
          ],
          "name": "stdout"
        }
      ]
    },
    {
      "cell_type": "markdown",
      "metadata": {
        "id": "QRaI5XW1A14i",
        "colab_type": "text"
      },
      "source": [
        "# 6.How to get the dates of yesterday, today and tomorrow?"
      ]
    },
    {
      "cell_type": "code",
      "metadata": {
        "id": "7J6cJhktA14j",
        "colab_type": "code",
        "colab": {
          "base_uri": "https://localhost:8080/",
          "height": 67
        },
        "outputId": "b0156dd1-6ea7-4739-d890-687c9e3be496"
      },
      "source": [
        "import numpy as np\n",
        "yesterday = np.datetime64('today', 'D') - np.timedelta64(1, 'D')\n",
        "print(\"Yestraday: \",yesterday)\n",
        "today     = np.datetime64('today', 'D')\n",
        "print(\"Today: \",today)\n",
        "tomorrow  = np.datetime64('today', 'D') + np.timedelta64(1, 'D')\n",
        "print(\"Tomorrow: \",tomorrow)"
      ],
      "execution_count": null,
      "outputs": [
        {
          "output_type": "stream",
          "text": [
            "Yestraday:  2020-07-24\n",
            "Today:  2020-07-25\n",
            "Tomorrow:  2020-07-26\n"
          ],
          "name": "stdout"
        }
      ]
    },
    {
      "cell_type": "markdown",
      "metadata": {
        "id": "3lX04j2hA14r",
        "colab_type": "text"
      },
      "source": [
        "# 7. Consider two random array A and B, check if they are equal"
      ]
    },
    {
      "cell_type": "code",
      "metadata": {
        "id": "Q97_lHt3A14s",
        "colab_type": "code",
        "colab": {
          "base_uri": "https://localhost:8080/",
          "height": 118
        },
        "outputId": "b4115b00-e92b-44ff-8c50-f9f224992a3e"
      },
      "source": [
        "import numpy as np\n",
        "x = np.random.randint(1,2,6)\n",
        "print(\"First array:\")\n",
        "print(x)\n",
        "y = np.random.randint(0,2,6)\n",
        "print(\"Second array:\")\n",
        "print(y)\n",
        "print(\"Test above two arrays are equal or not!\")\n",
        "array_equal = np.allclose(x, y)\n",
        "print(array_equal)"
      ],
      "execution_count": null,
      "outputs": [
        {
          "output_type": "stream",
          "text": [
            "First array:\n",
            "[1 1 1 1 1 1]\n",
            "Second array:\n",
            "[1 1 0 0 1 1]\n",
            "Test above two arrays are equal or not!\n",
            "False\n"
          ],
          "name": "stdout"
        }
      ]
    },
    {
      "cell_type": "markdown",
      "metadata": {
        "id": "_3mvS9WgA14y",
        "colab_type": "text"
      },
      "source": [
        "# 8.Create random vector of size 10 and replace the maximum value by 0 "
      ]
    },
    {
      "cell_type": "code",
      "metadata": {
        "id": "qrTBH5e_A14z",
        "colab_type": "code",
        "colab": {
          "base_uri": "https://localhost:8080/",
          "height": 118
        },
        "outputId": "7052a54e-8e0c-4af8-cf04-a32569c3c44d"
      },
      "source": [
        "import numpy as np\n",
        "x = np.random.random(10)\n",
        "print(\"Original array:\")\n",
        "print(x)\n",
        "x[x.argmax()] = 0\n",
        "print(\"Maximum value replaced by 0:\")\n",
        "print(x)"
      ],
      "execution_count": null,
      "outputs": [
        {
          "output_type": "stream",
          "text": [
            "Original array:\n",
            "[0.63266393 0.14906945 0.00524439 0.80135116 0.7579072  0.42452066\n",
            " 0.9638873  0.21462585 0.34578041 0.96376063]\n",
            "Maximum value replaced by 0:\n",
            "[0.63266393 0.14906945 0.00524439 0.80135116 0.7579072  0.42452066\n",
            " 0.         0.21462585 0.34578041 0.96376063]\n"
          ],
          "name": "stdout"
        }
      ]
    },
    {
      "cell_type": "markdown",
      "metadata": {
        "id": "FxHYkBcUA144",
        "colab_type": "text"
      },
      "source": [
        "# 9. How to print all the values of an array?"
      ]
    },
    {
      "cell_type": "code",
      "metadata": {
        "id": "A3H_OSySA145",
        "colab_type": "code",
        "colab": {
          "base_uri": "https://localhost:8080/",
          "height": 84
        },
        "outputId": "cc0cddfa-164e-4033-c614-8eb0bab31d72"
      },
      "source": [
        "import sys\n",
        "import numpy as np\n",
        "np.set_printoptions(threshold=sys.maxsize)\n",
        "x = np.zeros((4, 4))\n",
        "print(x)"
      ],
      "execution_count": null,
      "outputs": [
        {
          "output_type": "stream",
          "text": [
            "[[0. 0. 0. 0.]\n",
            " [0. 0. 0. 0.]\n",
            " [0. 0. 0. 0.]\n",
            " [0. 0. 0. 0.]]\n"
          ],
          "name": "stdout"
        }
      ]
    },
    {
      "cell_type": "markdown",
      "metadata": {
        "id": "9aEfbGOiA148",
        "colab_type": "text"
      },
      "source": [
        "# 10.Subtract the mean of each row of a matrix"
      ]
    },
    {
      "cell_type": "code",
      "metadata": {
        "id": "vyUzlGT0A149",
        "colab_type": "code",
        "colab": {
          "base_uri": "https://localhost:8080/",
          "height": 134
        },
        "outputId": "bb62ec58-d41c-4b45-c941-cf9c71cc1504"
      },
      "source": [
        "import numpy as np\n",
        "print(\"Original matrix:\\n\")\n",
        "X = np.random.rand(1, 4)\n",
        "print(X)\n",
        "print(\"\\nSubtract the mean of each row of the said matrix:\\n\")\n",
        "Y = X - X.mean(axis=1, keepdims=True)\n",
        "print(Y)"
      ],
      "execution_count": null,
      "outputs": [
        {
          "output_type": "stream",
          "text": [
            "Original matrix:\n",
            "\n",
            "[[0.27550224 0.44612666 0.68620701 0.52416701]]\n",
            "\n",
            "Subtract the mean of each row of the said matrix:\n",
            "\n",
            "[[-0.20749849 -0.03687407  0.20320628  0.04116628]]\n"
          ],
          "name": "stdout"
        }
      ]
    },
    {
      "cell_type": "markdown",
      "metadata": {
        "id": "TfBS7bvEA15C",
        "colab_type": "text"
      },
      "source": [
        "# 11.Consider a given vector, how to add 1 to each element indexed by a second vector (be careful with repeated indices)? "
      ]
    },
    {
      "cell_type": "code",
      "metadata": {
        "id": "z1giyh5lT-gN",
        "colab_type": "code",
        "colab": {}
      },
      "source": [
        "import numpy as np"
      ],
      "execution_count": 15,
      "outputs": []
    },
    {
      "cell_type": "code",
      "metadata": {
        "id": "_gpB6pb2UE1e",
        "colab_type": "code",
        "colab": {
          "base_uri": "https://localhost:8080/",
          "height": 67
        },
        "outputId": "f913851c-0668-42b8-ed3c-5a17561079d5"
      },
      "source": [
        "a=np.random.randint(1,8,8)\n",
        "b=np.random.randint(a)\n",
        "print(\"Vector b is \",b)\n",
        "print(\"Vector a is \",a)\n",
        "c= []\n",
        "b.sort()\n",
        "for x in b:\n",
        "  if x not in c:\n",
        "    c.append(x)\n",
        "\n",
        "for y in c:\n",
        "  a[y] +=1 \n",
        "print(a)   "
      ],
      "execution_count": 16,
      "outputs": [
        {
          "output_type": "stream",
          "text": [
            "Vector b is  [5 2 6 0 1 1 1 0]\n",
            "Vector a is  [7 3 7 6 7 2 3 1]\n",
            "[8 4 8 6 7 3 4 1]\n"
          ],
          "name": "stdout"
        }
      ]
    },
    {
      "cell_type": "markdown",
      "metadata": {
        "id": "JH_qMe25A15J",
        "colab_type": "text"
      },
      "source": [
        "# 12.How to get the diagonal of a dot product?"
      ]
    },
    {
      "cell_type": "code",
      "metadata": {
        "id": "E6F67spHA15K",
        "colab_type": "code",
        "colab": {
          "base_uri": "https://localhost:8080/",
          "height": 34
        },
        "outputId": "5646697c-fdcd-41e5-add6-a9caa5487925"
      },
      "source": [
        "A = np.random.randint(0,10,(3,3))\n",
        "B= np.random.randint(0,10,(3,3))\n",
        "np.diag(np.dot(A, B))"
      ],
      "execution_count": null,
      "outputs": [
        {
          "output_type": "execute_result",
          "data": {
            "text/plain": [
              "array([ 80, 120, 126])"
            ]
          },
          "metadata": {
            "tags": []
          },
          "execution_count": 20
        }
      ]
    },
    {
      "cell_type": "markdown",
      "metadata": {
        "id": "DAMFofFvA15N",
        "colab_type": "text"
      },
      "source": [
        "# 13.How to find the most frequent value in an array?"
      ]
    },
    {
      "cell_type": "code",
      "metadata": {
        "id": "DLjoWW6KA15N",
        "colab_type": "code",
        "colab": {
          "base_uri": "https://localhost:8080/",
          "height": 101
        },
        "outputId": "ffc30928-fc21-4814-d0d7-d5f0979b95e1"
      },
      "source": [
        "import numpy as np\n",
        "x = np.random.randint(0, 20, 40)\n",
        "print(\"Original array:\")\n",
        "print(x)\n",
        "print(\"Most frequent value in the above array:\")\n",
        "print(np.bincount(x).argmax())"
      ],
      "execution_count": null,
      "outputs": [
        {
          "output_type": "stream",
          "text": [
            "Original array:\n",
            "[12 10 16  7  4  3 19 17 11 18 10 13  3  8  9  7 11  3  6 19  3 11 13 19\n",
            " 16  0 11  0 14 19  5 11 16 19 10 12  8 12 19 10]\n",
            "Most frequent value in the above array:\n",
            "19\n"
          ],
          "name": "stdout"
        }
      ]
    },
    {
      "cell_type": "markdown",
      "metadata": {
        "id": "UpfS6TZTA15Q",
        "colab_type": "text"
      },
      "source": [
        "# 14.How to get the n largest values of an array"
      ]
    },
    {
      "cell_type": "code",
      "metadata": {
        "id": "bgXnNajuA15R",
        "colab_type": "code",
        "colab": {
          "base_uri": "https://localhost:8080/",
          "height": 67
        },
        "outputId": "4940e63c-f61b-41fd-e479-8afe07f5f657"
      },
      "source": [
        "import numpy as np\n",
        "x = np.arange(10)\n",
        "print(\"Original array:\")\n",
        "print(x)\n",
        "np.random.shuffle(x)\n",
        "n = 1\n",
        "print (x[np.argsort(x)[-n:]])"
      ],
      "execution_count": null,
      "outputs": [
        {
          "output_type": "stream",
          "text": [
            "Original array:\n",
            "[0 1 2 3 4 5 6 7 8 9]\n",
            "[9]\n"
          ],
          "name": "stdout"
        }
      ]
    },
    {
      "cell_type": "markdown",
      "metadata": {
        "id": "aUaBVnlPA15V",
        "colab_type": "text"
      },
      "source": [
        "# 15.How to create a record array from a regular array?"
      ]
    },
    {
      "cell_type": "code",
      "metadata": {
        "id": "-3FSMX3sA15W",
        "colab_type": "code",
        "colab": {
          "base_uri": "https://localhost:8080/",
          "height": 151
        },
        "outputId": "3d695d33-0acd-4d9a-d8d5-6026963946f6"
      },
      "source": [
        "import numpy as np\n",
        "arra1 = np.array([(\"prachit Reyaan\", 88.5, 90),\n",
        "                 (\"Ana anil\", 87, 99),\n",
        "             (\"Jordy Prachiti\", 85.5, 91)])\n",
        "print(\"Original arrays:\")\n",
        "print(arra1)\n",
        "print(\"\\nRecord array;\")\n",
        "result = np.core.records.fromarrays(arra1.T,\n",
        "                              names='col1, col2, col3',\n",
        "                              formats = 'S80, f8, i8')\n",
        "print(result)"
      ],
      "execution_count": null,
      "outputs": [
        {
          "output_type": "stream",
          "text": [
            "Original arrays:\n",
            "[['prachit Reyaan' '88.5' '90']\n",
            " ['Ana anil' '87' '99']\n",
            " ['Jordy Prachiti' '85.5' '91']]\n",
            "\n",
            "Record array;\n",
            "[(b'prachit Reyaan', 88.5, 90) (b'Ana anil', 87. , 99)\n",
            " (b'Jordy Prachiti', 85.5, 91)]\n"
          ],
          "name": "stdout"
        }
      ]
    },
    {
      "cell_type": "code",
      "metadata": {
        "id": "yEGo2WLmA15Z",
        "colab_type": "code",
        "colab": {
          "base_uri": "https://localhost:8080/",
          "height": 67
        },
        "outputId": "9463e0fc-792c-4802-993f-f0361ddf4f33"
      },
      "source": [
        "import numpy as np\n",
        "a1=np.array([1,2,3,4])\n",
        "a2=np.array(['Red','Green','White','Orange'])\n",
        "a3=np.array([12.20,15,20,40])\n",
        "result= np.core.records.fromarrays([a1, a2, a3],names='a,b,c')\n",
        "print(result[0])\n",
        "print(result[1])\n",
        "print(result[2])"
      ],
      "execution_count": null,
      "outputs": [
        {
          "output_type": "stream",
          "text": [
            "(1, 'Red', 12.2)\n",
            "(2, 'Green', 15.)\n",
            "(3, 'White', 20.)\n"
          ],
          "name": "stdout"
        }
      ]
    }
  ]
}