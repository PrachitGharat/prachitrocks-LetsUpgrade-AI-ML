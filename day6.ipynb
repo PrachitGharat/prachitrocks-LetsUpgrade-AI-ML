{
  "nbformat": 4,
  "nbformat_minor": 0,
  "metadata": {
    "colab": {
      "name": "day5.ipynb",
      "provenance": [],
      "authorship_tag": "ABX9TyMqfMffe0gLuqnL29EBalpF",
      "include_colab_link": true
    },
    "kernelspec": {
      "name": "python3",
      "display_name": "Python 3"
    }
  },
  "cells": [
    {
      "cell_type": "markdown",
      "metadata": {
        "id": "view-in-github",
        "colab_type": "text"
      },
      "source": [
        "<a href=\"https://colab.research.google.com/github/prachitrocks/prachitrocks-LetsUpgrade-AI-ML/blob/master/day6.ipynb\" target=\"_parent\"><img src=\"https://colab.research.google.com/assets/colab-badge.svg\" alt=\"Open In Colab\"/></a>"
      ]
    },
    {
      "cell_type": "code",
      "metadata": {
        "id": "E0gX-UD4hjLu",
        "colab_type": "code",
        "colab": {
          "base_uri": "https://localhost:8080/",
          "height": 50
        },
        "outputId": "66ae2e4b-2152-4a88-9d5f-752cc177e3d7"
      },
      "source": [
        "ip=input(\"enter the email id :\")\n",
        "x=ip.index(\"@\")\n",
        "print(ip[x+1:len(ip)-4],end='')"
      ],
      "execution_count": 1,
      "outputs": [
        {
          "output_type": "stream",
          "text": [
            "enter the email id :john@google.com\n",
            "google"
          ],
          "name": "stdout"
        }
      ]
    },
    {
      "cell_type": "code",
      "metadata": {
        "id": "7Ezq1iD1iWyz",
        "colab_type": "code",
        "colab": {
          "base_uri": "https://localhost:8080/",
          "height": 50
        },
        "outputId": "49f3f492-e211-4d05-9b94-999fb51bcf2a"
      },
      "source": [
        "items = input(\"Input comma separated sequence of words\")\n",
        "words = [word for word in items.split(\",\")]\n",
        "print(\",\".join(sorted(list(set(words)))))"
      ],
      "execution_count": 13,
      "outputs": [
        {
          "output_type": "stream",
          "text": [
            "Input comma separated sequence of wordswithout,hello,bag,world\n",
            "bag,hello,without,world\n"
          ],
          "name": "stdout"
        }
      ]
    },
    {
      "cell_type": "code",
      "metadata": {
        "id": "4LvX5ZKijXCs",
        "colab_type": "code",
        "colab": {
          "base_uri": "https://localhost:8080/",
          "height": 34
        },
        "outputId": "f64447ce-4887-4251-d7b2-1747879aed24"
      },
      "source": [
        "def getMissingNo(A): \n",
        "    n = len(A) \n",
        "    total = (n + 1)*(n + 2)/2\n",
        "    sum_of_A = sum(A) \n",
        "    return total - sum_of_A \n",
        "  \n",
        "\n",
        "A = [1, 2, 4, 6,3,7,8] \n",
        "miss = getMissingNo(A) \n",
        "print(miss) "
      ],
      "execution_count": 12,
      "outputs": [
        {
          "output_type": "stream",
          "text": [
            "5.0\n"
          ],
          "name": "stdout"
        }
      ]
    },
    {
      "cell_type": "code",
      "metadata": {
        "id": "seYpgDWwld56",
        "colab_type": "code",
        "colab": {
          "base_uri": "https://localhost:8080/",
          "height": 34
        },
        "outputId": "298905f1-73c9-4291-d336-533f241d4eb5"
      },
      "source": [
        "def Remove(duplicate): \n",
        "    final_list = [] \n",
        "    for num in duplicate: \n",
        "        if num not in final_list: \n",
        "            final_list.append(num) \n",
        "    return final_list \n",
        "      \n",
        "\n",
        "duplicate = [12 ,24, 35 ,24 ,88 ,120 ,155 ,88 ,120 ,155] \n",
        "print(Remove(duplicate)) "
      ],
      "execution_count": 14,
      "outputs": [
        {
          "output_type": "stream",
          "text": [
            "[12, 24, 35, 88, 120, 155]\n"
          ],
          "name": "stdout"
        }
      ]
    }
  ]
}