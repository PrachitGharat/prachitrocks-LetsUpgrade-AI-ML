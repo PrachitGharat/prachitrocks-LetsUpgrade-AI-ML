{
  "nbformat": 4,
  "nbformat_minor": 0,
  "metadata": {
    "colab": {
      "name": "day5.ipynb",
      "provenance": [],
      "authorship_tag": "ABX9TyP2d6QpJEMa4K6L1r7x8d++",
      "include_colab_link": true
    },
    "kernelspec": {
      "name": "python3",
      "display_name": "Python 3"
    }
  },
  "cells": [
    {
      "cell_type": "markdown",
      "metadata": {
        "id": "view-in-github",
        "colab_type": "text"
      },
      "source": [
        "<a href=\"https://colab.research.google.com/github/prachitrocks/prachitrocks-LetsUpgrade-AI-ML/blob/master/day5.ipynb\" target=\"_parent\"><img src=\"https://colab.research.google.com/assets/colab-badge.svg\" alt=\"Open In Colab\"/></a>"
      ]
    },
    {
      "cell_type": "code",
      "metadata": {
        "id": "bU93w5lwE79k",
        "colab_type": "code",
        "colab": {
          "base_uri": "https://localhost:8080/",
          "height": 101
        },
        "outputId": "424c1ae9-98cc-4b05-9aa5-e0906a330718"
      },
      "source": [
        "n=int(input(\"How many prime numbers would you like to print?\"))\n",
        "nos=range(1,n*10)\n",
        "prime_nos=[]\n",
        "for num in nos:\n",
        "  if num>2 and len(prime_nos)  <=n-1:\n",
        "    for i in range(2,num):\n",
        "      if(num%i)  ==0:\n",
        "        break\n",
        "    else:\n",
        "      prime_nos.append(num)\n",
        "print(\"\\nHere are the first\",n,\"non-even prime number: \\n\")\n",
        "for x in prime_nos:\n",
        "  print(x,end=\" \")"
      ],
      "execution_count": 2,
      "outputs": [
        {
          "output_type": "stream",
          "text": [
            "How many prime numbers would you like to print?20\n",
            "\n",
            "Here are the first 20 non-even prime number: \n",
            "\n",
            "3 5 7 11 13 17 19 23 29 31 37 41 43 47 53 59 61 67 71 73 "
          ],
          "name": "stdout"
        }
      ]
    },
    {
      "cell_type": "code",
      "metadata": {
        "id": "9HdBiv8GFKNN",
        "colab_type": "code",
        "colab": {
          "base_uri": "https://localhost:8080/",
          "height": 34
        },
        "outputId": "88a2057b-a03b-45fb-9135-82101890ea3f"
      },
      "source": [
        "#center() function of  string\n",
        "string =\"python is easy\"\n",
        "new_string=string.center(50)\n",
        "print(\"Centered String:\",new_string)"
      ],
      "execution_count": 3,
      "outputs": [
        {
          "output_type": "stream",
          "text": [
            "Centered String:                   python is easy                  \n"
          ],
          "name": "stdout"
        }
      ]
    },
    {
      "cell_type": "code",
      "metadata": {
        "id": "CSKYa_URGrZl",
        "colab_type": "code",
        "colab": {
          "base_uri": "https://localhost:8080/",
          "height": 34
        },
        "outputId": "ee3ab12f-c5e2-45f8-eb2e-1c87dd0db8d4"
      },
      "source": [
        "#max of string\n",
        "number = [3, 2, 8, 5, 10, 6]\n",
        "largest_number = max(number);\n",
        "\n",
        "print(\"The largest number is:\", largest_number)"
      ],
      "execution_count": 10,
      "outputs": [
        {
          "output_type": "stream",
          "text": [
            "The largest number is: 10\n"
          ],
          "name": "stdout"
        }
      ]
    },
    {
      "cell_type": "code",
      "metadata": {
        "id": "FjvYaDIoGz0w",
        "colab_type": "code",
        "colab": {
          "base_uri": "https://localhost:8080/",
          "height": 34
        },
        "outputId": "1463e2cf-b26a-4025-d73f-cc2fb37c0349"
      },
      "source": [
        "#count the string\n",
        "string = \"Python is awesome\"\n",
        "substring = \"is\"\n",
        "\n",
        "count = string.count(substring)\n",
        "\n",
        "print(\"The count is:\", count)"
      ],
      "execution_count": 11,
      "outputs": [
        {
          "output_type": "stream",
          "text": [
            "The count is: 1\n"
          ],
          "name": "stdout"
        }
      ]
    },
    {
      "cell_type": "code",
      "metadata": {
        "id": "yq4IAbwBG9jz",
        "colab_type": "code",
        "colab": {
          "base_uri": "https://localhost:8080/",
          "height": 50
        },
        "outputId": "5b6e3f2f-6108-4d2d-8967-3d85065504ae"
      },
      "source": [
        "#endswith the string\n",
        "text = \"my name is prachit.\"\n",
        "result = text.endswith('is prachit')\n",
        "print(result)\n",
        "\n",
        "result=text.endswith(\"my name is prachit.\")\n",
        "print(result)"
      ],
      "execution_count": 12,
      "outputs": [
        {
          "output_type": "stream",
          "text": [
            "False\n",
            "True\n"
          ],
          "name": "stdout"
        }
      ]
    },
    {
      "cell_type": "code",
      "metadata": {
        "id": "MmRbzL7nHC_Z",
        "colab_type": "code",
        "colab": {
          "base_uri": "https://localhost:8080/",
          "height": 34
        },
        "outputId": "fa9f0b69-8e55-434f-d368-1bf6a94eef45"
      },
      "source": [
        "#expandtabs() the string\n",
        "str='abc\\t3456\\tedf'\n",
        "result=str.expandtabs()\n",
        "print(result)"
      ],
      "execution_count": 13,
      "outputs": [
        {
          "output_type": "stream",
          "text": [
            "abc     3456    edf\n"
          ],
          "name": "stdout"
        }
      ]
    },
    {
      "cell_type": "code",
      "metadata": {
        "id": "TOsYYsuGHIbf",
        "colab_type": "code",
        "colab": {
          "base_uri": "https://localhost:8080/",
          "height": 50
        },
        "outputId": "f01603f4-3565-4690-c9b7-0e882c701446"
      },
      "source": [
        "#format the string\n",
        "print(\"Hello {}, your balance is {}.\".format(\"prachit\", 230.2346))\n",
        "print(\"Hello {0}, your balance is {1}.\".format(\"prachit\", 230.2346))"
      ],
      "execution_count": 15,
      "outputs": [
        {
          "output_type": "stream",
          "text": [
            "Hello prachit, your balance is 230.2346.\n",
            "Hello prachit, your balance is 230.2346.\n"
          ],
          "name": "stdout"
        }
      ]
    },
    {
      "cell_type": "code",
      "metadata": {
        "id": "v_H7odjGHTeC",
        "colab_type": "code",
        "colab": {
          "base_uri": "https://localhost:8080/",
          "height": 34
        },
        "outputId": "1d091eaa-b4b8-4d70-d735-6792368303c3"
      },
      "source": [
        "#index the string\n",
        "sentence = 'Python programming is fun.'\n",
        "\n",
        "result = sentence.index('is fun')\n",
        "print(\"Substring 'is fun':\", result)"
      ],
      "execution_count": 16,
      "outputs": [
        {
          "output_type": "stream",
          "text": [
            "Substring 'is fun': 19\n"
          ],
          "name": "stdout"
        }
      ]
    },
    {
      "cell_type": "code",
      "metadata": {
        "id": "3r-b4b0uHai4",
        "colab_type": "code",
        "colab": {
          "base_uri": "https://localhost:8080/",
          "height": 50
        },
        "outputId": "ff04dd07-71da-401d-c8e0-fcfafd502980"
      },
      "source": [
        "#isalnum() the string\n",
        "name=\"m256ism\"\n",
        "print(name.isalnum())\n",
        "\n",
        "name=\"m2134 fun\"\n",
        "print(name.isalnum())"
      ],
      "execution_count": 17,
      "outputs": [
        {
          "output_type": "stream",
          "text": [
            "True\n",
            "False\n"
          ],
          "name": "stdout"
        }
      ]
    },
    {
      "cell_type": "code",
      "metadata": {
        "id": "m-nV7p-KHdpg",
        "colab_type": "code",
        "colab": {
          "base_uri": "https://localhost:8080/",
          "height": 67
        },
        "outputId": "da6465af-5eae-4bfc-8fa7-be082209a09c"
      },
      "source": [
        "#isalpha() the string\n",
        "name=\"ANIL\"\n",
        "print(name.isalpha())\n",
        "#contains whitespace\n",
        "name=\"ANIL SAMANT\"\n",
        "print(name.isalpha())\n",
        "#contains number\n",
        "name=\"ANIL123XYZ\"\n",
        "print(name.isalpha())"
      ],
      "execution_count": 18,
      "outputs": [
        {
          "output_type": "stream",
          "text": [
            "True\n",
            "False\n",
            "False\n"
          ],
          "name": "stdout"
        }
      ]
    },
    {
      "cell_type": "code",
      "metadata": {
        "id": "RvE0v54eHi1N",
        "colab_type": "code",
        "colab": {
          "base_uri": "https://localhost:8080/",
          "height": 67
        },
        "outputId": "66826bbe-8b74-4ecb-f09b-e67ab222fcea"
      },
      "source": [
        "#isdecimal() the string\n",
        "s=\"1245\"\n",
        "print(s.isdecimal())\n",
        "#contains whitespace\n",
        "s=\"123 45\"\n",
        "print(s.isdecimal())\n",
        "#contains alphabets\n",
        "s=\"789a bc\"\n",
        "print(s.isdecimal())"
      ],
      "execution_count": 19,
      "outputs": [
        {
          "output_type": "stream",
          "text": [
            "True\n",
            "False\n",
            "False\n"
          ],
          "name": "stdout"
        }
      ]
    },
    {
      "cell_type": "code",
      "metadata": {
        "id": "-buStISfHn1j",
        "colab_type": "code",
        "colab": {
          "base_uri": "https://localhost:8080/",
          "height": 50
        },
        "outputId": "1438b33d-16ae-4f33-d826-b230656b9968"
      },
      "source": [
        "#isprintable of string\n",
        "s='Space is printable'\n",
        "print(s)\n",
        "print(s.isprintable())"
      ],
      "execution_count": 20,
      "outputs": [
        {
          "output_type": "stream",
          "text": [
            "Space is printable\n",
            "True\n"
          ],
          "name": "stdout"
        }
      ]
    },
    {
      "cell_type": "code",
      "metadata": {
        "id": "lEQB4Mq_HsON",
        "colab_type": "code",
        "colab": {
          "base_uri": "https://localhost:8080/",
          "height": 50
        },
        "outputId": "0891e3c5-3882-4736-c553-8a340c3c34fb"
      },
      "source": [
        "#isupper of string\n",
        "string=\"THIS IS COOL\"\n",
        "print(string.isupper())\n",
        "\n",
        "string=\"THIS IS cOOL\"\n",
        "print(string.isupper())"
      ],
      "execution_count": 21,
      "outputs": [
        {
          "output_type": "stream",
          "text": [
            "True\n",
            "False\n"
          ],
          "name": "stdout"
        }
      ]
    },
    {
      "cell_type": "code",
      "metadata": {
        "id": "MgxksU8eHwoU",
        "colab_type": "code",
        "colab": {
          "base_uri": "https://localhost:8080/",
          "height": 50
        },
        "outputId": "5195e618-ef90-4bdc-c0f2-d63d11a0659f"
      },
      "source": [
        "#islower of string\n",
        "string = \"THIS SHOULD BE LOWERCASE!\"\n",
        "print(string.lower())\n",
        "string = \"Th!s Sh0uLd B3 L0w3rCas3!\"\n",
        "print(string.lower())"
      ],
      "execution_count": 22,
      "outputs": [
        {
          "output_type": "stream",
          "text": [
            "this should be lowercase!\n",
            "th!s sh0uld b3 l0w3rcas3!\n"
          ],
          "name": "stdout"
        }
      ]
    },
    {
      "cell_type": "code",
      "metadata": {
        "id": "c26NpiSkH3kK",
        "colab_type": "code",
        "colab": {
          "base_uri": "https://localhost:8080/",
          "height": 67
        },
        "outputId": "441e953f-d631-4b12-87cd-6e680f211833"
      },
      "source": [
        "#swapcase of string\n",
        "string = \"THIS SHOULD ALL BE LOWERCASE.\"\n",
        "print(string.swapcase())\n",
        "\n",
        "string = \"this should all be uppercase.\"\n",
        "print(string.swapcase())\n",
        "\n",
        "string = \"ThIs ShOuLd Be MiXeD cAsEd.\"\n",
        "print(string.swapcase())"
      ],
      "execution_count": 23,
      "outputs": [
        {
          "output_type": "stream",
          "text": [
            "this should all be lowercase.\n",
            "THIS SHOULD ALL BE UPPERCASE.\n",
            "tHiS sHoUlD bE mIxEd CaSeD.\n"
          ],
          "name": "stdout"
        }
      ]
    },
    {
      "cell_type": "code",
      "metadata": {
        "id": "cY4jb-4CH9cB",
        "colab_type": "code",
        "colab": {
          "base_uri": "https://localhost:8080/",
          "height": 34
        },
        "outputId": "3f61bc74-369a-478a-99a2-fc0c237b2206"
      },
      "source": [
        "#lstrip() of string\n",
        "random_string = '   this is wonderfull '\n",
        "\n",
        "print(random_string.lstrip())\n"
      ],
      "execution_count": 24,
      "outputs": [
        {
          "output_type": "stream",
          "text": [
            "this is wonderfull \n"
          ],
          "name": "stdout"
        }
      ]
    },
    {
      "cell_type": "code",
      "metadata": {
        "id": "FXPPah6aH_sZ",
        "colab_type": "code",
        "colab": {
          "base_uri": "https://localhost:8080/",
          "height": 67
        },
        "outputId": "8e854a80-f014-47ec-e4bf-29328a0c3d3c"
      },
      "source": [
        "string1=input(\"Enter the word:\")\n",
        "rev_string=string1[::-1]\n",
        "if rev_string ==string1:\n",
        "  print(\"palindrome\")\n",
        "else:\n",
        "  string2=input(\"Enter the word:\")\n",
        "  str1=sorted(string1)\n",
        "  str2=sorted(string2)\n",
        "  if str1==str2:\n",
        "    print(\"Anagrams\")\n",
        "  else:\n",
        "    print(\"None\")\n",
        "    "
      ],
      "execution_count": 25,
      "outputs": [
        {
          "output_type": "stream",
          "text": [
            "Enter the word:earth\n",
            "Enter the word:heart\n",
            "Anagrams\n"
          ],
          "name": "stdout"
        }
      ]
    },
    {
      "cell_type": "code",
      "metadata": {
        "id": "kWPQ_rN1IMvA",
        "colab_type": "code",
        "colab": {
          "base_uri": "https://localhost:8080/",
          "height": 67
        },
        "outputId": "c6978712-0a55-492c-f068-9894b33cfe34"
      },
      "source": [
        "def replace_char(y):\n",
        "  invalid_list=['!','@','#','%','&','*']\n",
        "  for i in invalid_list:\n",
        "    y=y.replace(i,'')\n",
        "    y=y.lower()\n",
        "  print(\"After removing all special characters from String\")\n",
        "  print(\"Resultant String is :\",y)\n",
        "string_5='Dr.Darshan Ingle @AI-ML Trainer'\n",
        "print(\"String is :\",string_5)\n",
        "replace_char(string_5)"
      ],
      "execution_count": 26,
      "outputs": [
        {
          "output_type": "stream",
          "text": [
            "String is : Dr.Darshan Ingle @AI-ML Trainer\n",
            "After removing all special characters from String\n",
            "Resultant String is : dr.darshan ingle ai-ml trainer\n"
          ],
          "name": "stdout"
        }
      ]
    }
  ]
}