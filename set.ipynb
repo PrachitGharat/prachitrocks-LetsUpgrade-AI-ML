{
  "nbformat": 4,
  "nbformat_minor": 0,
  "metadata": {
    "colab": {
      "name": "set.ipynb",
      "provenance": [],
      "collapsed_sections": [],
      "authorship_tag": "ABX9TyMvWKiO+5VlF46kNJeyLgIt",
      "include_colab_link": true
    },
    "kernelspec": {
      "name": "python3",
      "display_name": "Python 3"
    }
  },
  "cells": [
    {
      "cell_type": "markdown",
      "metadata": {
        "id": "view-in-github",
        "colab_type": "text"
      },
      "source": [
        "<a href=\"https://colab.research.google.com/github/prachitrocks/prachitrocks-LetsUpgrade-AI-ML/blob/master/set.ipynb\" target=\"_parent\"><img src=\"https://colab.research.google.com/assets/colab-badge.svg\" alt=\"Open In Colab\"/></a>"
      ]
    },
    {
      "cell_type": "code",
      "metadata": {
        "id": "AhcmlPTMM7cW",
        "colab_type": "code",
        "colab": {
          "base_uri": "https://localhost:8080/",
          "height": 67
        },
        "outputId": "53e9922f-6056-4a24-fb74-ef22de0cffb8"
      },
      "source": [
        "#having duplicate value\n",
        "set1 = set([1, 2, 4, 4, 3, 3, 3, 6, 5]) \n",
        "print(\"\\nSet with the use of Numbers: \") \n",
        "print(set1) \n",
        "  "
      ],
      "execution_count": null,
      "outputs": [
        {
          "output_type": "stream",
          "text": [
            "\n",
            "Set with the use of Numbers: \n",
            "{1, 2, 3, 4, 5, 6}\n"
          ],
          "name": "stdout"
        }
      ]
    },
    {
      "cell_type": "code",
      "metadata": {
        "id": "L45c-I9sNML6",
        "colab_type": "code",
        "colab": {
          "base_uri": "https://localhost:8080/",
          "height": 67
        },
        "outputId": "e377fa02-32c2-4d30-981e-a3576445d96f"
      },
      "source": [
        "#having mixed value\n",
        "set1 = set([1, 2, 'python', 4, 'is ', 6, 'awesome']) \n",
        "print(\"\\nSet with the use of Mixed Values\") \n",
        "print(set1)"
      ],
      "execution_count": null,
      "outputs": [
        {
          "output_type": "stream",
          "text": [
            "\n",
            "Set with the use of Mixed Values\n",
            "{1, 2, 4, 6, 'awesome', 'python', 'is '}\n"
          ],
          "name": "stdout"
        }
      ]
    },
    {
      "cell_type": "code",
      "metadata": {
        "id": "2ow8Uv-RNqCr",
        "colab_type": "code",
        "colab": {
          "base_uri": "https://localhost:8080/",
          "height": 67
        },
        "outputId": "3b777561-6fcd-4ef5-e02d-01696d39ad5a"
      },
      "source": [
        "#addition of element\n",
        "set1.add(8) \n",
        "set1.add(9)  \n",
        "print(\"\\nSet after Addition of Three elements: \") \n",
        "print(set1) "
      ],
      "execution_count": null,
      "outputs": [
        {
          "output_type": "stream",
          "text": [
            "\n",
            "Set after Addition of Three elements: \n",
            "{1, 2, 4, 6, 8, 9, 'awesome', 'python', 'is '}\n"
          ],
          "name": "stdout"
        }
      ]
    },
    {
      "cell_type": "code",
      "metadata": {
        "id": "6dkQZG0qOgEo",
        "colab_type": "code",
        "colab": {}
      },
      "source": [
        "# update() of elements\n",
        "set1 = set([ 4, 5, (6, 7)]) \n",
        "set1.update([10, 11]) \n",
        "print(\"\\nSet after Addition of elements using Update: \") \n",
        "print(set1) "
      ],
      "execution_count": null,
      "outputs": []
    },
    {
      "cell_type": "code",
      "metadata": {
        "id": "aUTYvf-6Ozqa",
        "colab_type": "code",
        "colab": {
          "base_uri": "https://localhost:8080/",
          "height": 67
        },
        "outputId": "7da117f5-6f2f-4404-b1b0-00faf1631904"
      },
      "source": [
        "#access of set\n",
        "set1 = set([\"pray\", \"For\", \"yourself\"]) \n",
        "print(\"\\nInitial set\") \n",
        "print(set1) "
      ],
      "execution_count": null,
      "outputs": [
        {
          "output_type": "stream",
          "text": [
            "\n",
            "Initial set\n",
            "{'For', 'pray', 'yourself'}\n"
          ],
          "name": "stdout"
        }
      ]
    },
    {
      "cell_type": "code",
      "metadata": {
        "id": "T0mITOmbPTEc",
        "colab_type": "code",
        "colab": {
          "base_uri": "https://localhost:8080/",
          "height": 67
        },
        "outputId": "6316aa39-66f6-4c48-9b99-296793fad8b2"
      },
      "source": [
        "#remove the set\n",
        "set1 = set([1, 2, 3, 4, 5, 6,  \n",
        "            7, 8, 9, 10, 11, 12])\n",
        "set1.remove(5) \n",
        "set1.remove(6) \n",
        "print(\"\\nSet after Removal of two elements: \") \n",
        "print(set1)\n"
      ],
      "execution_count": 1,
      "outputs": [
        {
          "output_type": "stream",
          "text": [
            "\n",
            "Set after Removal of two elements: \n",
            "{1, 2, 3, 4, 7, 8, 9, 10, 11, 12}\n"
          ],
          "name": "stdout"
        }
      ]
    },
    {
      "cell_type": "code",
      "metadata": {
        "id": "ZWgZBhGdSCrO",
        "colab_type": "code",
        "colab": {
          "base_uri": "https://localhost:8080/",
          "height": 67
        },
        "outputId": "974b9e33-bcdc-4ca2-b773-3b0f7e987bdf"
      },
      "source": [
        "#pop()  of the set\n",
        "set = set([1, 2, 3, 4, 5, 6,  \n",
        "            7, 8, 9, 10, 11, 12]) \n",
        "set.pop() \n",
        "print(\"\\nSet after popping an element: \") \n",
        "print(set) "
      ],
      "execution_count": 2,
      "outputs": [
        {
          "output_type": "stream",
          "text": [
            "\n",
            "Set after popping an element: \n",
            "{2, 3, 4, 5, 6, 7, 8, 9, 10, 11, 12}\n"
          ],
          "name": "stdout"
        }
      ]
    }
  ]
}