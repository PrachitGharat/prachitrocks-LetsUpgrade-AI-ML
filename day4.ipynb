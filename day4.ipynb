{
  "nbformat": 4,
  "nbformat_minor": 0,
  "metadata": {
    "colab": {
      "name": "day4.ipynb",
      "provenance": [],
      "authorship_tag": "ABX9TyMbyPr5J1JvgkNooQ5E2iT6",
      "include_colab_link": true
    },
    "kernelspec": {
      "name": "python3",
      "display_name": "Python 3"
    }
  },
  "cells": [
    {
      "cell_type": "markdown",
      "metadata": {
        "id": "view-in-github",
        "colab_type": "text"
      },
      "source": [
        "<a href=\"https://colab.research.google.com/github/prachitrocks/prachitrocks-LetsUpgrade-AI-ML/blob/master/day4.ipynb\" target=\"_parent\"><img src=\"https://colab.research.google.com/assets/colab-badge.svg\" alt=\"Open In Colab\"/></a>"
      ]
    },
    {
      "cell_type": "code",
      "metadata": {
        "id": "oJL4ukEBMH82",
        "colab_type": "code",
        "colab": {
          "base_uri": "https://localhost:8080/",
          "height": 34
        },
        "outputId": "26ba059b-d4b3-48ca-b9bb-f2b5ba5dc022"
      },
      "source": [
        "def addComplex( a1,a2): \n",
        "    return a1 + a2\n",
        "a1 = complex(2, 3) \n",
        "a2 = complex(1, 2) \n",
        "print( \"Addtion is : \", addComplex(a1,a2)) "
      ],
      "execution_count": 11,
      "outputs": [
        {
          "output_type": "stream",
          "text": [
            "Addtion is :  (3+5j)\n"
          ],
          "name": "stdout"
        }
      ]
    },
    {
      "cell_type": "code",
      "metadata": {
        "id": "FFFJYB_sORND",
        "colab_type": "code",
        "colab": {
          "base_uri": "https://localhost:8080/",
          "height": 34
        },
        "outputId": "7b2f8dba-f5d2-4373-d7a2-64cd85e3ade4"
      },
      "source": [
        "def subComplex( b1, b2): \n",
        "    return b1-b2  \n",
        "b1 = complex(7, 4) \n",
        "b2 = complex(6, 3) \n",
        "print( \"Subtraction is : \", subComplex(b1, b2))"
      ],
      "execution_count": 15,
      "outputs": [
        {
          "output_type": "stream",
          "text": [
            "Subtraction is :  (1+1j)\n"
          ],
          "name": "stdout"
        }
      ]
    },
    {
      "cell_type": "code",
      "metadata": {
        "id": "ANQrIhZ5PCoi",
        "colab_type": "code",
        "colab": {
          "base_uri": "https://localhost:8080/",
          "height": 34
        },
        "outputId": "39044787-6961-48e3-af38-ebed1b7cf32c"
      },
      "source": [
        "def mulComplex(c1,c2) :\n",
        "    return c1*c2\n",
        "c1=complex(2,5)\n",
        "c2=complex(3,8)\n",
        "print( \"Multiplication is :\",mulComplex(c1,c2))"
      ],
      "execution_count": 16,
      "outputs": [
        {
          "output_type": "stream",
          "text": [
            "Multiplication is : (-34+31j)\n"
          ],
          "name": "stdout"
        }
      ]
    },
    {
      "cell_type": "code",
      "metadata": {
        "id": "fCXZADUOPwAa",
        "colab_type": "code",
        "colab": {
          "base_uri": "https://localhost:8080/",
          "height": 34
        },
        "outputId": "a5f20dd4-2b58-4c59-b508-641471b8fe5a"
      },
      "source": [
        "def divComplex(d1,d2) :\n",
        "    return d1/d2\n",
        "d1=complex(7,8)\n",
        "d2=complex(5,7)\n",
        "print(  \"Division is :\",divComplex(d1,d2))"
      ],
      "execution_count": 17,
      "outputs": [
        {
          "output_type": "stream",
          "text": [
            "Division is : (1.2297297297297298-0.12162162162162161j)\n"
          ],
          "name": "stdout"
        }
      ]
    },
    {
      "cell_type": "code",
      "metadata": {
        "id": "zZNUydpoVEkU",
        "colab_type": "code",
        "colab": {
          "base_uri": "https://localhost:8080/",
          "height": 34
        },
        "outputId": "6a923b4f-d782-4e68-ecde-5434a7e9a010"
      },
      "source": [
        "from math import sqrt  \n",
        "def findModulo(s): \n",
        "    l = len(s) \n",
        "    modulus = 0\n",
        "    if ( '+' in s ): \n",
        "        i = s.index('+') \n",
        "    else: \n",
        "        i = s.index('-') \n",
        "    real = s[0:i]  \n",
        "    imaginary = s[i + 1:l - 1] \n",
        "  \n",
        "    x = int(real) \n",
        "    y = int(imaginary) \n",
        "  \n",
        "    print(int(sqrt(x * x + y * y))) \n",
        "if __name__ == '__main__': \n",
        "    s = \"3+4i\"\n",
        "  \n",
        "    findModulo(s) "
      ],
      "execution_count": 21,
      "outputs": [
        {
          "output_type": "stream",
          "text": [
            "5\n"
          ],
          "name": "stdout"
        }
      ]
    },
    {
      "cell_type": "code",
      "metadata": {
        "id": "GMWJK6DVV1zO",
        "colab_type": "code",
        "colab": {
          "base_uri": "https://localhost:8080/",
          "height": 84
        },
        "outputId": "d85e155a-195d-4c8e-8a81-61b39f7c022d"
      },
      "source": [
        "import numpy as np \n",
        "arr1 = [2, 6, 21, 21, 12] \n",
        "arr2 = [2, 3, 4, -3, 6] \n",
        "print (\"arr1         : \", arr1) \n",
        "print (\"arr2         : \", arr2) \n",
        "out = np.floor_divide(arr1, arr2) \n",
        "print (\"\\nOutput array : \", out) "
      ],
      "execution_count": 22,
      "outputs": [
        {
          "output_type": "stream",
          "text": [
            "arr1         :  [2, 6, 21, 21, 12]\n",
            "arr2         :  [2, 3, 4, -3, 6]\n",
            "\n",
            "Output array :  [ 1  2  5 -7  2]\n"
          ],
          "name": "stdout"
        }
      ]
    },
    {
      "cell_type": "code",
      "metadata": {
        "id": "InI80YfnWc5q",
        "colab_type": "code",
        "colab": {
          "base_uri": "https://localhost:8080/",
          "height": 67
        },
        "outputId": "0ea5b86e-752b-4d43-f24e-cc4222bff514"
      },
      "source": [
        "x= range(3,20,8)\n",
        "for n in x:\n",
        "  print(n)"
      ],
      "execution_count": 29,
      "outputs": [
        {
          "output_type": "stream",
          "text": [
            "3\n",
            "11\n",
            "19\n"
          ],
          "name": "stdout"
        }
      ]
    },
    {
      "cell_type": "code",
      "metadata": {
        "id": "FMYXBqFFbyzr",
        "colab_type": "code",
        "colab": {
          "base_uri": "https://localhost:8080/",
          "height": 34
        },
        "outputId": "e6e41b24-ccc4-4a43-b804-5c4c96fab141"
      },
      "source": [
        "l=[3,5,7,9,11,13,15,17,19,23]\n",
        "for i in l:\n",
        " if(i/3)>7:\n",
        "  print(\"Division of\",i,\"with 3 is greater than7\")"
      ],
      "execution_count": 35,
      "outputs": [
        {
          "output_type": "stream",
          "text": [
            "Division of 23 with 3 is greater than7\n"
          ],
          "name": "stdout"
        }
      ]
    },
    {
      "cell_type": "code",
      "metadata": {
        "id": "1etmATfzdmA7",
        "colab_type": "code",
        "colab": {
          "base_uri": "https://localhost:8080/",
          "height": 118
        },
        "outputId": "0842103a-f190-4185-f49e-b9a75e9b4015"
      },
      "source": [
        "a=[1,2,3,4,5,6,7,8,9,10,12]\n",
        "for n in a:\n",
        "    if(n%2==0) :\n",
        "       print(\"square of {} minus 2: \".format(n)+str(n**2-2))"
      ],
      "execution_count": 41,
      "outputs": [
        {
          "output_type": "stream",
          "text": [
            "square of 2 minus 2: 2\n",
            "square of 4 minus 2: 14\n",
            "square of 6 minus 2: 34\n",
            "square of 8 minus 2: 62\n",
            "square of 10 minus 2: 98\n",
            "square of 12 minus 2: 142\n"
          ],
          "name": "stdout"
        }
      ]
    },
    {
      "cell_type": "code",
      "metadata": {
        "id": "71gIdgxJiKqn",
        "colab_type": "code",
        "colab": {
          "base_uri": "https://localhost:8080/",
          "height": 118
        },
        "outputId": "f5c414b0-a8d7-4515-c5c3-9e14e26f21b3"
      },
      "source": [
        "l=[2,4,6,16,18,21,24,26,28,30]\n",
        "for i in l:\n",
        "  if i>7 and i%2==0:\n",
        "    print(i)"
      ],
      "execution_count": 48,
      "outputs": [
        {
          "output_type": "stream",
          "text": [
            "16\n",
            "18\n",
            "24\n",
            "26\n",
            "28\n",
            "30\n"
          ],
          "name": "stdout"
        }
      ]
    }
  ]
}