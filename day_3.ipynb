{
  "nbformat": 4,
  "nbformat_minor": 0,
  "metadata": {
    "colab": {
      "name": "day 3.ipynb",
      "provenance": [],
      "authorship_tag": "ABX9TyO1494FSU+6ACXjBYRDXm4i",
      "include_colab_link": true
    },
    "kernelspec": {
      "name": "python3",
      "display_name": "Python 3"
    }
  },
  "cells": [
    {
      "cell_type": "markdown",
      "metadata": {
        "id": "view-in-github",
        "colab_type": "text"
      },
      "source": [
        "<a href=\"https://colab.research.google.com/github/prachitrocks/prachitrocks-LetsUpgrade-AI-ML/blob/master/day_3.ipynb\" target=\"_parent\"><img src=\"https://colab.research.google.com/assets/colab-badge.svg\" alt=\"Open In Colab\"/></a>"
      ]
    },
    {
      "cell_type": "code",
      "metadata": {
        "id": "fE3bCeKC2E_S",
        "colab_type": "code",
        "colab": {
          "base_uri": "https://localhost:8080/",
          "height": 34
        },
        "outputId": "cdc91153-f4d6-4a58-e09c-e3faf785c500"
      },
      "source": [
        "complexno = 2 + 6j\n",
        "complexno1 = 5 + 14j\n",
        "print('Subtraction of two complex number=', complexno - complexno1)"
      ],
      "execution_count": 1,
      "outputs": [
        {
          "output_type": "stream",
          "text": [
            "Subtraction of two complex number= (-3-8j)\n"
          ],
          "name": "stdout"
        }
      ]
    },
    {
      "cell_type": "code",
      "metadata": {
        "id": "dnFwRsLn2NkM",
        "colab_type": "code",
        "colab": {
          "base_uri": "https://localhost:8080/",
          "height": 34
        },
        "outputId": "10cb198a-b277-4902-c300-c9852d06e62f"
      },
      "source": [
        "num = 4\n",
        "num_sqrt = num ** 0.5\n",
        "print('The square root of %0.3f is %0.3f'%(num ,num_sqrt))"
      ],
      "execution_count": 2,
      "outputs": [
        {
          "output_type": "stream",
          "text": [
            "The square root of 4.000 is 2.000\n"
          ],
          "name": "stdout"
        }
      ]
    },
    {
      "cell_type": "code",
      "metadata": {
        "id": "gpLhkXBV2TfL",
        "colab_type": "code",
        "colab": {
          "base_uri": "https://localhost:8080/",
          "height": 50
        },
        "outputId": "0977b5d1-e4c8-4259-b08d-4ccf4f2c729e"
      },
      "source": [
        "x = 2\n",
        "y = 10\n",
        "# create a temporary variable and swap the values\n",
        "temp = x\n",
        "x = y\n",
        "y = temp\n",
        "\n",
        "print('The value of x after swapping: {}'.format(x))\n",
        "print('The value of y after swapping: {}'.format(y))"
      ],
      "execution_count": 4,
      "outputs": [
        {
          "output_type": "stream",
          "text": [
            "The value of x after swapping: 10\n",
            "The value of y after swapping: 2\n"
          ],
          "name": "stdout"
        }
      ]
    },
    {
      "cell_type": "code",
      "metadata": {
        "id": "q-zRWpZX2X1J",
        "colab_type": "code",
        "colab": {
          "base_uri": "https://localhost:8080/",
          "height": 50
        },
        "outputId": "40afd252-1205-4940-a277-52db33b5fc35"
      },
      "source": [
        "x = 3\n",
        "y = 15\n",
        "#create without using tempporary variable\n",
        "x, y = y, x\n",
        "print(\"x =\", x)\n",
        "print(\"y =\", y)"
      ],
      "execution_count": 5,
      "outputs": [
        {
          "output_type": "stream",
          "text": [
            "x = 15\n",
            "y = 3\n"
          ],
          "name": "stdout"
        }
      ]
    },
    {
      "cell_type": "code",
      "metadata": {
        "id": "BJAInbxm2hb4",
        "colab_type": "code",
        "colab": {
          "base_uri": "https://localhost:8080/",
          "height": 50
        },
        "outputId": "22973981-1aee-434a-cf99-c268f15985f2"
      },
      "source": [
        "def Fahrenheit_to_Kelvin(F): \n",
        "    return 273.5 + ((F - 32.0) * (5.0/9.0))  \n",
        "F = 100\n",
        "print(\"Temperature in Kelvin ( K ) = {:.3f}\" \n",
        "            .format(Fahrenheit_to_Kelvin( F ))) \n",
        "\n",
        "# Fahrenheit to Celsius \n",
        "def Conversion(n): \n",
        "    return(n - 32.0) * 5.0 / 9.0\n",
        "n = 40\n",
        "x = Conversion(n) \n",
        "print (x) "
      ],
      "execution_count": 6,
      "outputs": [
        {
          "output_type": "stream",
          "text": [
            "Temperature in Kelvin ( K ) = 311.278\n",
            "4.444444444444445\n"
          ],
          "name": "stdout"
        }
      ]
    },
    {
      "cell_type": "code",
      "metadata": {
        "id": "_jP7Fejv2s1l",
        "colab_type": "code",
        "colab": {
          "base_uri": "https://localhost:8080/",
          "height": 67
        },
        "outputId": "97aa6bdd-a73a-4ccd-80b4-250d22109f2c"
      },
      "source": [
        "a = 5\n",
        "print(a,type(a))\n",
        "\n",
        "a = 2.0\n",
        "print(a,type(a))\n",
        "\n",
        "a = 1+2j\n",
        "print(a,isinstance(1+2j,complex))"
      ],
      "execution_count": 7,
      "outputs": [
        {
          "output_type": "stream",
          "text": [
            "5 <class 'int'>\n",
            "2.0 <class 'float'>\n",
            "(1+2j) True\n"
          ],
          "name": "stdout"
        }
      ]
    },
    {
      "cell_type": "code",
      "metadata": {
        "id": "lBtQ_-EH21Bg",
        "colab_type": "code",
        "colab": {}
      },
      "source": [
        "1.Go to https://github.com/join.\n",
        "2.Fill out the form.\n",
        "3.Click Create account.\n",
        "4.Complete the CAPTCHA.\n",
        "5.Click Choose on your desired plan.\n",
        "6.Verify your email address.\n",
        "7.Confirm your plan.\n",
        "8.Select your preferences."
      ],
      "execution_count": null,
      "outputs": []
    }
  ]
}